{
 "cells": [
  {
   "cell_type": "markdown",
   "metadata": {},
   "source": [
    "### You can handle that"
   ]
  },
  {
   "cell_type": "markdown",
   "metadata": {},
   "source": [
    "...even if you don't quite know precisely what that function does. Call function ```havoc()``` a few times and see what happens. Then try to handle the resulting exception in the calling code (not inside the function) by printing it. Your can even write code that keeps calling ```havoc()``` until it runs without errors (I wouldn't recommend that as a general debugging strategy, though!)"
   ]
  },
  {
   "cell_type": "code",
   "execution_count": 2,
   "metadata": {},
   "outputs": [],
   "source": [
    "import random\n",
    "\n",
    "def havoc():\n",
    "    # agreed, this code is a bit pointless - just imagine this function does something really\n",
    "    # complicated and raises an error when it fails. You want to handle the error without \n",
    "    # touching the function\n",
    "    outcome=random.choice(('success', 'fail'))\n",
    "    if outcome=='success':\n",
    "        print (\"All good\")\n",
    "    else:\n",
    "        raise Exception(\"Aaaaargh!\")"
   ]
  },
  {
   "cell_type": "code",
   "execution_count": 25,
   "metadata": {},
   "outputs": [
    {
     "name": "stdout",
     "output_type": "stream",
     "text": [
      "Aaaaargh!\n"
     ]
    }
   ],
   "source": [
    "try:\n",
    "    havoc()\n",
    "except Exception as e:\n",
    "    print(e)"
   ]
  },
  {
   "cell_type": "code",
   "execution_count": 18,
   "metadata": {},
   "outputs": [
    {
     "ename": "Exception",
     "evalue": "Aaaaargh!",
     "output_type": "error",
     "traceback": [
      "\u001b[0;31m---------------------------------------------------------------------------\u001b[0m",
      "\u001b[0;31mException\u001b[0m                                 Traceback (most recent call last)",
      "\u001b[0;32m<ipython-input-18-81e916e8cc47>\u001b[0m in \u001b[0;36m<module>\u001b[0;34m\u001b[0m\n\u001b[0;32m----> 1\u001b[0;31m \u001b[0mhavoc\u001b[0m\u001b[0;34m(\u001b[0m\u001b[0;34m)\u001b[0m\u001b[0;34m\u001b[0m\u001b[0;34m\u001b[0m\u001b[0m\n\u001b[0m",
      "\u001b[0;32m<ipython-input-2-a432c4d8c58e>\u001b[0m in \u001b[0;36mhavoc\u001b[0;34m()\u001b[0m\n\u001b[1;32m      9\u001b[0m         \u001b[0mprint\u001b[0m \u001b[0;34m(\u001b[0m\u001b[0;34m\"All good\"\u001b[0m\u001b[0;34m)\u001b[0m\u001b[0;34m\u001b[0m\u001b[0;34m\u001b[0m\u001b[0m\n\u001b[1;32m     10\u001b[0m     \u001b[0;32melse\u001b[0m\u001b[0;34m:\u001b[0m\u001b[0;34m\u001b[0m\u001b[0;34m\u001b[0m\u001b[0m\n\u001b[0;32m---> 11\u001b[0;31m         \u001b[0;32mraise\u001b[0m \u001b[0mException\u001b[0m\u001b[0;34m(\u001b[0m\u001b[0;34m\"Aaaaargh!\"\u001b[0m\u001b[0;34m)\u001b[0m\u001b[0;34m\u001b[0m\u001b[0;34m\u001b[0m\u001b[0m\n\u001b[0m",
      "\u001b[0;31mException\u001b[0m: Aaaaargh!"
     ]
    }
   ],
   "source": [
    "havoc()"
   ]
  },
  {
   "cell_type": "code",
   "execution_count": null,
   "metadata": {},
   "outputs": [],
   "source": []
  },
  {
   "cell_type": "markdown",
   "metadata": {},
   "source": [
    "### Quadratic equation"
   ]
  },
  {
   "cell_type": "markdown",
   "metadata": {},
   "source": [
    "Consider the function ```quad()``` below that computes the roots of a quadratic equation. Write a program that asks the user for the parameters, calls the function, prints the results and handles all exceptions. In case of error, your program can extract the offending parameters from the ```.params``` attribute of the exception and, for instance, print them (note that since ```a```, ```b```, and ```c``` are not passed to the constructor of ```QuadError``` but stored in an attribute, they do not get printed automatically when the exception object is printed)."
   ]
  },
  {
   "cell_type": "code",
   "execution_count": 1,
   "metadata": {},
   "outputs": [],
   "source": [
    "import math\n",
    "\n",
    "class QuadError( Exception ): \n",
    "    pass # do nothing special\n",
    "\n",
    "def quad(a,b,c):\n",
    "    \"\"\" Solve the quadratic equation ax^2 + bx + c=0 \"\"\"\n",
    "    if a == 0:\n",
    "        ex= QuadError( \"Not Quadratic\" )\n",
    "        ex.params= ( a, b, c ) # may help with debugging\n",
    "        raise ex\n",
    "    if b*b-4*a*c < 0:\n",
    "        ex= QuadError( \"No Real Roots\" )\n",
    "        ex.params= ( a, b, c )\n",
    "        raise ex\n",
    "    x1= (-b+math.sqrt(b*b-4*a*c))/(2*a)\n",
    "    x2= (-b-math.sqrt(b*b-4*a*c))/(2*a)\n",
    "    return (x1,x2)\n"
   ]
  },
  {
   "cell_type": "code",
   "execution_count": 7,
   "metadata": {},
   "outputs": [
    {
     "name": "stdout",
     "output_type": "stream",
     "text": [
      "Please write a \n",
      "1\n",
      "Please write b \n",
      "gf\n",
      "Invalid input, please input a number:\n",
      "Please write b \n",
      "fas\n",
      "Invalid input, please input a number:\n",
      "Please write b \n",
      "sfd\n",
      "Invalid input, please input a number:\n",
      "Please write b \n",
      "6\n",
      "Please write c \n",
      "gfgfa\n",
      "Invalid input, please input a number:\n",
      "Please write c \n",
      "ga\n",
      "Invalid input, please input a number:\n",
      "Please write c \n",
      "9\n",
      "The solutions are:\n",
      "(-3.0, -3.0)\n"
     ]
    }
   ],
   "source": [
    "while True:\n",
    "    try:\n",
    "        a=int(input(\"Please write a \\n\"))\n",
    "    except:\n",
    "        print(\"Invalid input, please input a number:\")\n",
    "    else:\n",
    "        break\n",
    "while True:\n",
    "    try:\n",
    "        b=int(input(\"Please write b \\n\"))\n",
    "    except:\n",
    "        print(\"Invalid input, please input a number:\")\n",
    "    else:\n",
    "        break\n",
    "while True:\n",
    "    try:\n",
    "        c=int(input(\"Please write c \\n\"))\n",
    "    except:\n",
    "        print(\"Invalid input, please input a number:\")\n",
    "    else:\n",
    "        break\n",
    "\n",
    "try:\n",
    "    print(\"The solutions are:\")\n",
    "    print(quad(a,b,c))\n",
    "except QuadError as e:\n",
    "    print(e)\n",
    "    print(\"Check these inputs for a,b,c: \\n\" + str(e.params))"
   ]
  },
  {
   "cell_type": "markdown",
   "metadata": {},
   "source": [
    "### File input/output"
   ]
  },
  {
   "cell_type": "markdown",
   "metadata": {},
   "source": [
    "A typical situation in which exceptions can occur is when handling files. For instance, the file you want to read may not exist, or you may not have write permissions for the directory to which you are trying to write.\n",
    "\n",
    "Take some code you have written to read a text file and change the name of the file to something non-existing. See what happens. Modify the code so that the exception is handled correctly (for instance, by asking the user for a new filename or printing a message and quitting cleanly)."
   ]
  },
  {
   "cell_type": "code",
   "execution_count": 5,
   "metadata": {},
   "outputs": [
    {
     "name": "stdout",
     "output_type": "stream",
     "text": [
      "File does not exist. \n",
      "Please input new file name:\n",
      "f\n",
      "File does not exist. If you want to quit, type q:\n",
      "d\n",
      "Please input new file name:\n",
      "s\n",
      "File does not exist. If you want to quit, type q:\n",
      "a\n",
      "Please input new file name:\n",
      "a\n",
      "file opened\n",
      "\n"
     ]
    }
   ],
   "source": [
    "try:\n",
    "    text_file=open(\"text.txt\")\n",
    "except:\n",
    "    print(\"File does not exist. \\nPlease input new file name:\")\n",
    "    filename=input()\n",
    "while True:\n",
    "    try:\n",
    "        text_file=open(filename+\".txt\")\n",
    "        print(\"file opened\\n\")\n",
    "    except:\n",
    "        print(\"File does not exist. If you want to quit, type q:\")\n",
    "        q=input()\n",
    "        if q==\"q\":\n",
    "            break\n",
    "        filename=input(\"Please input new file name:\\n\")\n",
    "    else:\n",
    "        break\n",
    "text_file.close()"
   ]
  },
  {
   "cell_type": "markdown",
   "metadata": {},
   "source": [
    "### Dictionary lookup"
   ]
  },
  {
   "cell_type": "markdown",
   "metadata": {},
   "source": [
    "Try the following code as is, then try it removing the ```if``` statement. Looking up a key that does not exist will cause an exception. In place of the ```if```, use exception handling to print the goodbye message and quit."
   ]
  },
  {
   "cell_type": "code",
   "execution_count": 9,
   "metadata": {},
   "outputs": [
    {
     "name": "stdout",
     "output_type": "stream",
     "text": [
      "Turing test - keep talking. I'll quit when I no longer understand you\n",
      "you > foo\n",
      "me  > bar\n",
      "you > ba\n",
      "Bye\n"
     ]
    }
   ],
   "source": [
    "ans={\"foo\": \"bar\", \"humpty\": \"dumpty\", \"ping\": \"pong\", \"spam\": \"ham\"}\n",
    "\n",
    "print (\"Turing test - keep talking. I'll quit when I no longer understand you\")\n",
    "\n",
    "while(True):\n",
    "    user=input(\"you > \")\n",
    "    #if user not in ans.keys(): break # exit the loop\n",
    "    try:\n",
    "        print (\"me  > \" + ans[user])\n",
    "    except:\n",
    "        print(\"Bye\")\n",
    "        break\n",
    "        \n",
    "\n",
    "#print(\"Bye\")"
   ]
  },
  {
   "cell_type": "markdown",
   "metadata": {},
   "source": [
    "### More information"
   ]
  },
  {
   "cell_type": "markdown",
   "metadata": {},
   "source": [
    "Look up the detailed explanations and examples on the [RealPython](https://realpython.com/python-exceptions/#exceptions-versus-syntax-errors) website. Feel free to copy some of their examples and try them here below.\n"
   ]
  },
  {
   "cell_type": "code",
   "execution_count": null,
   "metadata": {},
   "outputs": [],
   "source": []
  }
 ],
 "metadata": {
  "kernelspec": {
   "display_name": "Python 3",
   "language": "python",
   "name": "python3"
  },
  "language_info": {
   "codemirror_mode": {
    "name": "ipython",
    "version": 3
   },
   "file_extension": ".py",
   "mimetype": "text/x-python",
   "name": "python",
   "nbconvert_exporter": "python",
   "pygments_lexer": "ipython3",
   "version": "3.8.3"
  }
 },
 "nbformat": 4,
 "nbformat_minor": 1
}
